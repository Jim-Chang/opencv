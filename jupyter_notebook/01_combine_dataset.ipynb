{
 "cells": [
  {
   "cell_type": "code",
   "execution_count": 17,
   "id": "f35a118f",
   "metadata": {},
   "outputs": [],
   "source": [
    "# param\n",
    "import platform\n",
    "\n",
    "if platform.system() == 'Linux':\n",
    "    BASE_FOLDER = '/home/jim/Documents'\n",
    "else:\n",
    "    BASE_FOLDER = '/Users/jim/Documents'\n",
    "    \n",
    "COMBINE_FOLDERS = ['clean_data_0627', 'clean_data_0711']\n",
    "TARGET_FOLDER = BASE_FOLDER + '/clean_data'"
   ]
  },
  {
   "cell_type": "code",
   "execution_count": 18,
   "id": "2cb8be81",
   "metadata": {},
   "outputs": [
    {
     "name": "stdout",
     "output_type": "stream",
     "text": [
      "train df:  8854\n",
      "valid df:  985\n"
     ]
    }
   ],
   "source": [
    "import pandas as pd\n",
    "\n",
    "train_df = None\n",
    "valid_df = None\n",
    "for folder in COMBINE_FOLDERS:\n",
    "    folder_path = f'{BASE_FOLDER}/{folder}'\n",
    "    _train_df = pd.read_csv(f'{folder_path}/train.csv')\n",
    "    _valid_df = pd.read_csv(f'{folder_path}/valid.csv')\n",
    "    \n",
    "    if train_df is not None:\n",
    "        train_df = pd.concat([train_df, _train_df])\n",
    "        valid_df = pd.concat([valid_df, _valid_df])\n",
    "    else:\n",
    "        train_df = _train_df\n",
    "        valid_df = _valid_df\n",
    "        \n",
    "print('train df: ', len(train_df))\n",
    "print('valid df: ', len(valid_df))"
   ]
  },
  {
   "cell_type": "code",
   "execution_count": 19,
   "id": "50af9a27",
   "metadata": {},
   "outputs": [],
   "source": [
    "# shuffle\n",
    "train_df = train_df.sample(frac=1)\n",
    "valid_df = valid_df.sample(frac=1)\n",
    "\n",
    "import os\n",
    "\n",
    "if not os.path.exists(TARGET_FOLDER):\n",
    "    os.mkdir(TARGET_FOLDER)\n",
    "    os.mkdir(TARGET_FOLDER + '/img')\n",
    "\n",
    "train_df.to_csv(TARGET_FOLDER + '/train.csv', index=False)\n",
    "valid_df.to_csv(TARGET_FOLDER + '/valid.csv', index=False)"
   ]
  },
  {
   "cell_type": "code",
   "execution_count": 20,
   "id": "f6d46324",
   "metadata": {},
   "outputs": [
    {
     "name": "stdout",
     "output_type": "stream",
     "text": [
      "finish\n"
     ]
    }
   ],
   "source": [
    "from shutil import copyfile\n",
    "import os\n",
    "\n",
    "# cp img data\n",
    "for folder in COMBINE_FOLDERS:\n",
    "    folder_path = f'{BASE_FOLDER}/{folder}/img'\n",
    "    for im_fn in os.listdir(folder_path):\n",
    "        copyfile(f'{folder_path}/{im_fn}', f'{TARGET_FOLDER}/img/{im_fn}')\n",
    "        \n",
    "print('finish')"
   ]
  },
  {
   "cell_type": "code",
   "execution_count": null,
   "id": "e9299939",
   "metadata": {},
   "outputs": [],
   "source": []
  }
 ],
 "metadata": {
  "kernelspec": {
   "display_name": "Python 3",
   "language": "python",
   "name": "python3"
  },
  "language_info": {
   "codemirror_mode": {
    "name": "ipython",
    "version": 3
   },
   "file_extension": ".py",
   "mimetype": "text/x-python",
   "name": "python",
   "nbconvert_exporter": "python",
   "pygments_lexer": "ipython3",
   "version": "3.6.8"
  }
 },
 "nbformat": 4,
 "nbformat_minor": 5
}
