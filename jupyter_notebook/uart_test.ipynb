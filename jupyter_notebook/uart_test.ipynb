{
 "cells": [
  {
   "cell_type": "code",
   "execution_count": null,
   "id": "53d3226c",
   "metadata": {},
   "outputs": [],
   "source": [
    "# https://github.com/JetsonHacksNano/UARTDemo\n",
    "!systemctl stop nvgetty\n",
    "!systemctl disable nvgetty\n",
    "!udevadm trigger\n",
    "\n",
    "# and modify permission\n",
    "'''\n",
    "https://forums.developer.nvidia.com/t/read-write-permission-ttyths1/81623\n",
    "\n",
    "created a udev rule: /etc/udev/rules.d/55-tegraserial.rules containing:\n",
    "KERNEL==\"ttyTHS*\", MODE=\"0666\"\n",
    "\n",
    "sudo chmod 666 /dev/ttyTHS1\n",
    "'''"
   ]
  },
  {
   "cell_type": "code",
   "execution_count": null,
   "id": "ed889093",
   "metadata": {},
   "outputs": [],
   "source": [
    "!pip install pyserial"
   ]
  },
  {
   "cell_type": "code",
   "execution_count": 1,
   "id": "340c3d70",
   "metadata": {},
   "outputs": [],
   "source": [
    "import time\n",
    "import serial\n",
    "\n",
    "serial_port = serial.Serial(\n",
    "    port=\"/dev/ttyTHS1\",\n",
    "    baudrate=115200,\n",
    "    bytesize=serial.EIGHTBITS,\n",
    "    parity=serial.PARITY_NONE,\n",
    "    stopbits=serial.STOPBITS_ONE,\n",
    ")"
   ]
  },
  {
   "cell_type": "code",
   "execution_count": 32,
   "id": "c908b716",
   "metadata": {},
   "outputs": [
    {
     "data": {
      "text/plain": [
       "20"
      ]
     },
     "execution_count": 32,
     "metadata": {},
     "output_type": "execute_result"
    }
   ],
   "source": [
    "serial_port.write(\"MOTOR:left:0:right:0\".encode())"
   ]
  },
  {
   "cell_type": "code",
   "execution_count": null,
   "id": "edd14a2f",
   "metadata": {},
   "outputs": [],
   "source": []
  },
  {
   "cell_type": "code",
   "execution_count": null,
   "id": "5d0e2153",
   "metadata": {},
   "outputs": [],
   "source": []
  }
 ],
 "metadata": {
  "kernelspec": {
   "display_name": "Python 3",
   "language": "python",
   "name": "python3"
  },
  "language_info": {
   "codemirror_mode": {
    "name": "ipython",
    "version": 3
   },
   "file_extension": ".py",
   "mimetype": "text/x-python",
   "name": "python",
   "nbconvert_exporter": "python",
   "pygments_lexer": "ipython3",
   "version": "3.8.9"
  }
 },
 "nbformat": 4,
 "nbformat_minor": 5
}
