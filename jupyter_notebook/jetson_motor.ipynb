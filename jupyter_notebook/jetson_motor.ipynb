{
 "cells": [
  {
   "cell_type": "code",
   "execution_count": 1,
   "id": "f573cde6",
   "metadata": {},
   "outputs": [
    {
     "name": "stdout",
     "output_type": "stream",
     "text": [
      "Collecting Jetson.GPIO\n",
      "  Downloading Jetson.GPIO-2.0.16.tar.gz (26 kB)\n",
      "Building wheels for collected packages: Jetson.GPIO\n",
      "  Building wheel for Jetson.GPIO (setup.py) ... \u001b[?25ldone\n",
      "\u001b[?25h  Created wheel for Jetson.GPIO: filename=Jetson.GPIO-2.0.16-py3-none-any.whl size=23407 sha256=7f0a4da38f8b608a0574edbf7d2347df28d48cb770a6e53fcf8f45fcda7ae1e3\n",
      "  Stored in directory: /home/jim/.cache/pip/wheels/d6/39/5b/6f8c1809370927b6aa423268349d307ebd2327ccc428212b05\n",
      "Successfully built Jetson.GPIO\n",
      "Installing collected packages: Jetson.GPIO\n",
      "Successfully installed Jetson.GPIO-2.0.16\n"
     ]
    }
   ],
   "source": [
    "!pip install Jetson.GPIO"
   ]
  },
  {
   "cell_type": "code",
   "execution_count": 6,
   "id": "7f77c370",
   "metadata": {},
   "outputs": [],
   "source": [
    "!jt -t monokai -nfs 12 -fs 12 -ofs 12"
   ]
  },
  {
   "cell_type": "code",
   "execution_count": 1,
   "id": "e8e5ba0c",
   "metadata": {},
   "outputs": [],
   "source": [
    "import Jetson.GPIO as GPIO"
   ]
  },
  {
   "cell_type": "code",
   "execution_count": 2,
   "id": "8bb511af",
   "metadata": {},
   "outputs": [],
   "source": [
    "PIN_A_1 = 12\n",
    "PIN_A_2 = 32\n",
    "PIN_B_1 = 33\n",
    "PIN_B_2 = 35\n",
    "\n",
    "PWM_PINS = [PIN_A_1, PIN_A_2, PIN_B_1, PIN_B_2]\n",
    "FREQ = 50 # 50 Hz\n",
    "\n",
    "# {<pin_num>: <GPIO.PWM>}\n",
    "pwm_map = dict()\n",
    "\n",
    "GPIO.setmode(GPIO.BOARD)\n",
    "\n"
   ]
  },
  {
   "cell_type": "code",
   "execution_count": 3,
   "id": "b9c58f15",
   "metadata": {},
   "outputs": [],
   "source": [
    "GPIO.setup(33, GPIO.OUT, initial=GPIO.LOW)\n",
    "GPIO.setup(31, GPIO.OUT, initial=GPIO.HIGH)\n",
    "\n",
    "pwm = GPIO.PWM(33, FREQ)\n",
    "pwm.start(100)"
   ]
  },
  {
   "cell_type": "code",
   "execution_count": 15,
   "id": "a15ae0b8",
   "metadata": {},
   "outputs": [],
   "source": [
    "pwm.ChangeDutyCycle(20)\n",
    "pwm.stop()"
   ]
  },
  {
   "cell_type": "code",
   "execution_count": 16,
   "id": "22e2416a",
   "metadata": {},
   "outputs": [],
   "source": [
    "GPIO.setup(31, GPIO.OUT, initial=GPIO.LOW)\n",
    "GPIO.setup(33, GPIO.OUT, initial=GPIO.LOW)\n",
    "GPIO.output(31, GPIO.HIGH)\n",
    "GPIO.output(33, GPIO.LOW)"
   ]
  },
  {
   "cell_type": "code",
   "execution_count": 3,
   "id": "b697c49d",
   "metadata": {},
   "outputs": [],
   "source": [
    "for pin in PWM_PINS:\n",
    "    GPIO.setup(pin, GPIO.OUT)\n",
    "    pwm_map[pin] = GPIO.PWM(pin, FREQ)\n",
    "    \n",
    "pwm_map[PIN_A_2].start(100)\n",
    "pwm_map[PIN_B_1].start(50)"
   ]
  },
  {
   "cell_type": "code",
   "execution_count": 4,
   "id": "8257e3d3",
   "metadata": {},
   "outputs": [],
   "source": [
    "pwm_map[PIN_B_1].ChangeDutyCycle(100)"
   ]
  },
  {
   "cell_type": "code",
   "execution_count": 5,
   "id": "c7c3363d",
   "metadata": {},
   "outputs": [],
   "source": [
    "pwm_map[PIN_A_2].stop()\n",
    "pwm_map[PIN_B_1].stop()"
   ]
  },
  {
   "cell_type": "code",
   "execution_count": 13,
   "id": "c8cfd40e",
   "metadata": {},
   "outputs": [],
   "source": [
    "for pin in PWM_PINS:\n",
    "    GPIO.setup(pin, GPIO.OUT, initial=GPIO.LOW)"
   ]
  },
  {
   "cell_type": "code",
   "execution_count": 22,
   "id": "c600eeac",
   "metadata": {},
   "outputs": [],
   "source": [
    "def motor(pin_1, pin_2, value):\n",
    "    if value == 1:\n",
    "        GPIO.output(pin_1, GPIO.LOW)\n",
    "        GPIO.output(pin_2, GPIO.HIGH)\n",
    "    elif value == -1:\n",
    "        GPIO.output(pin_1, GPIO.HIGH)\n",
    "        GPIO.output(pin_2, GPIO.LOW)\n",
    "    else:\n",
    "        GPIO.output(pin_1, GPIO.LOW)\n",
    "        GPIO.output(pin_2, GPIO.LOW)\n",
    "        \n",
    "def forward():\n",
    "    motor(PIN_A_1, PIN_A_2, 1)\n",
    "    motor(PIN_B_1, PIN_B_2, 1)\n",
    "\n",
    "def back():\n",
    "    motor(PIN_A_1, PIN_A_2, -1)\n",
    "    motor(PIN_B_1, PIN_B_2, -1)\n",
    "\n",
    "def left():\n",
    "    motor(PIN_A_1, PIN_A_2, 0)\n",
    "    motor(PIN_B_1, PIN_B_2, 1)\n",
    "\n",
    "def right():\n",
    "    motor(PIN_A_1, PIN_A_2, 1)\n",
    "    motor(PIN_B_1, PIN_B_2, 0)\n",
    "    \n",
    "def stop():\n",
    "    motor(PIN_A_1, PIN_A_2, 0)\n",
    "    motor(PIN_B_1, PIN_B_2, 0)"
   ]
  },
  {
   "cell_type": "code",
   "execution_count": 24,
   "id": "e489e7e0",
   "metadata": {},
   "outputs": [],
   "source": [
    "forward()"
   ]
  },
  {
   "cell_type": "code",
   "execution_count": 25,
   "id": "5df95c13",
   "metadata": {},
   "outputs": [],
   "source": [
    "back()"
   ]
  },
  {
   "cell_type": "code",
   "execution_count": 20,
   "id": "489ac999",
   "metadata": {},
   "outputs": [],
   "source": [
    "left()"
   ]
  },
  {
   "cell_type": "code",
   "execution_count": 21,
   "id": "23223d43",
   "metadata": {},
   "outputs": [],
   "source": [
    "right()"
   ]
  },
  {
   "cell_type": "code",
   "execution_count": 26,
   "id": "b4b35974",
   "metadata": {},
   "outputs": [],
   "source": [
    "stop()"
   ]
  },
  {
   "cell_type": "code",
   "execution_count": 18,
   "id": "30bad7e7",
   "metadata": {},
   "outputs": [],
   "source": [
    "GPIO.cleanup()"
   ]
  },
  {
   "cell_type": "code",
   "execution_count": null,
   "id": "62422c42",
   "metadata": {},
   "outputs": [],
   "source": []
  }
 ],
 "metadata": {
  "kernelspec": {
   "display_name": "Python 3",
   "language": "python",
   "name": "python3"
  },
  "language_info": {
   "codemirror_mode": {
    "name": "ipython",
    "version": 3
   },
   "file_extension": ".py",
   "mimetype": "text/x-python",
   "name": "python",
   "nbconvert_exporter": "python",
   "pygments_lexer": "ipython3",
   "version": "3.6.9"
  }
 },
 "nbformat": 4,
 "nbformat_minor": 5
}
