{
 "cells": [
  {
   "cell_type": "code",
   "execution_count": 1,
   "id": "812ad862",
   "metadata": {},
   "outputs": [],
   "source": [
    "import torchvision\n",
    "import torch"
   ]
  },
  {
   "cell_type": "code",
   "execution_count": 2,
   "id": "4c47e850",
   "metadata": {},
   "outputs": [],
   "source": [
    "BEST_MODEL_PATH = '/home/jim/Documents/model/steering_0621.pth'\n",
    "\n",
    "model = torchvision.models.resnet18(pretrained=False)\n",
    "model.fc = torch.nn.Linear(512, 2)\n",
    "\n",
    "model.load_state_dict(torch.load(BEST_MODEL_PATH))\n",
    "\n",
    "device = torch.device('cuda')\n",
    "model = model.to(device)\n",
    "model = model.eval().half()"
   ]
  },
  {
   "cell_type": "code",
   "execution_count": 3,
   "id": "8d2b4d28",
   "metadata": {},
   "outputs": [],
   "source": [
    "import torchvision.transforms as transforms\n",
    "import torch.nn.functional as F\n",
    "import cv2\n",
    "import PIL.Image\n",
    "import numpy as np\n",
    "\n",
    "mean = torch.Tensor([0.485, 0.456, 0.406]).cuda().half()\n",
    "std = torch.Tensor([0.229, 0.224, 0.225]).cuda().half()\n",
    "\n",
    "def preprocess(image):\n",
    "    image = PIL.Image.fromarray(image)\n",
    "    image = transforms.functional.to_tensor(image).to(device).half()\n",
    "    image.sub_(mean[:, None, None]).div_(std[:, None, None])\n",
    "    return image[None, ...]"
   ]
  },
  {
   "cell_type": "code",
   "execution_count": 4,
   "id": "be474278",
   "metadata": {},
   "outputs": [],
   "source": [
    "def gstreamer_pipeline(\n",
    "    capture_width=1280,\n",
    "    capture_height=720,\n",
    "    display_width=1280,\n",
    "    display_height=720,\n",
    "    framerate=60,\n",
    "    flip_method=0,\n",
    "):\n",
    "    return (\n",
    "        \"nvarguscamerasrc ! \"\n",
    "        \"video/x-raw(memory:NVMM), \"\n",
    "        \"width=(int)%d, height=(int)%d, \"\n",
    "        \"format=(string)NV12, framerate=(fraction)%d/1 ! \"\n",
    "        \"nvvidconv flip-method=%d ! \"\n",
    "        \"video/x-raw, width=(int)%d, height=(int)%d, format=(string)BGRx ! \"\n",
    "        \"videoconvert ! \"\n",
    "        \"video/x-raw, format=(string)BGR ! appsink\"\n",
    "        % (\n",
    "            capture_width,\n",
    "            capture_height,\n",
    "            framerate,\n",
    "            flip_method,\n",
    "            display_width,\n",
    "            display_height,\n",
    "        )\n",
    "    )"
   ]
  },
  {
   "cell_type": "code",
   "execution_count": 5,
   "id": "73ceb171",
   "metadata": {},
   "outputs": [],
   "source": [
    "import cv2\n",
    "gst = gstreamer_pipeline(320,180,320,180,framerate=20)\n",
    "cap = cv2.VideoCapture(gstreamer_pipeline(), cv2.CAP_GSTREAMER)"
   ]
  },
  {
   "cell_type": "code",
   "execution_count": 6,
   "id": "c2c9afaa",
   "metadata": {},
   "outputs": [],
   "source": [
    "from IPython.display import clear_output, display\n",
    "import IPython\n",
    "from PIL import Image\n",
    "from io import BytesIO\n",
    "    \n",
    "# high speed\n",
    "# https://medium.com/@kostal91/displaying-real-time-webcam-stream-in-ipython-at-relatively-high-framerate-8e67428ac522\n",
    "def render_by_jpg(arr, fmt='jpeg'):\n",
    "    f = BytesIO()\n",
    "    Image.fromarray(arr).save(f, fmt)\n",
    "    display(IPython.display.Image(data=f.getvalue()))\n",
    "    clear_output(wait=True)\n",
    "    \n",
    "def render(img):\n",
    "    return render_by_jpg(img)\n"
   ]
  },
  {
   "cell_type": "code",
   "execution_count": 7,
   "id": "7743e8d8",
   "metadata": {},
   "outputs": [
    {
     "data": {
      "application/vnd.jupyter.widget-view+json": {
       "model_id": "e62c60b13fe94be88be7971de70bc47d",
       "version_major": 2,
       "version_minor": 0
      },
      "text/plain": [
       "FloatSlider(value=0.0, description='speed', min=-100.0, step=1.0)"
      ]
     },
     "metadata": {},
     "output_type": "display_data"
    },
    {
     "data": {
      "application/vnd.jupyter.widget-view+json": {
       "model_id": "9caeb415aa4b4bcc8e6fba8fc3be81ce",
       "version_major": 2,
       "version_minor": 0
      },
      "text/plain": [
       "FloatSlider(value=0.0, description='diff', min=-100.0, step=1.0)"
      ]
     },
     "metadata": {},
     "output_type": "display_data"
    }
   ],
   "source": [
    "from IPython.display import display\n",
    "import ipywidgets\n",
    "import traitlets\n",
    "\n",
    "speed_slider = ipywidgets.FloatSlider(min=-100, max=100.0, step=1, description='speed')\n",
    "diff_slider = ipywidgets.FloatSlider(min=-100, max=100.0, step=1, description='diff')\n",
    "\n",
    "display(speed_slider, diff_slider)"
   ]
  },
  {
   "cell_type": "code",
   "execution_count": 9,
   "id": "745b0966",
   "metadata": {},
   "outputs": [
    {
     "name": "stdout",
     "output_type": "stream",
     "text": [
      "stop\n"
     ]
    }
   ],
   "source": [
    "try:\n",
    "    while True:\n",
    "        success, img = cap.read()\n",
    "        if success:\n",
    "            img = cv2.cvtColor(img, cv2.COLOR_BGR2RGB)\n",
    "            render(img)\n",
    "            speed, diff = model(preprocess(img)).detach().float().cpu().numpy().flatten() * 100\n",
    "            \n",
    "            speed_slider.value = speed\n",
    "            diff_slider.value = diff\n",
    "\n",
    "        else:\n",
    "            print('camera error')\n",
    "except KeyboardInterrupt:\n",
    "    print('stop')"
   ]
  },
  {
   "cell_type": "code",
   "execution_count": null,
   "id": "cb1bf91c",
   "metadata": {},
   "outputs": [],
   "source": [
    "cap.release()"
   ]
  },
  {
   "cell_type": "code",
   "execution_count": null,
   "id": "451fee42",
   "metadata": {},
   "outputs": [],
   "source": []
  }
 ],
 "metadata": {
  "kernelspec": {
   "display_name": "Python 3",
   "language": "python",
   "name": "python3"
  },
  "language_info": {
   "codemirror_mode": {
    "name": "ipython",
    "version": 3
   },
   "file_extension": ".py",
   "mimetype": "text/x-python",
   "name": "python",
   "nbconvert_exporter": "python",
   "pygments_lexer": "ipython3",
   "version": "3.6.9"
  }
 },
 "nbformat": 4,
 "nbformat_minor": 5
}
