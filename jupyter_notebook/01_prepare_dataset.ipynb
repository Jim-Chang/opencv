{
  "nbformat": 4,
  "nbformat_minor": 0,
  "metadata": {
    "colab": {
      "name": "01_prepare_dataset.ipynb",
      "provenance": [],
      "collapsed_sections": []
    },
    "kernelspec": {
      "name": "python3",
      "display_name": "Python 3"
    },
    "language_info": {
      "name": "python"
    }
  },
  "cells": [
    {
      "cell_type": "code",
      "metadata": {
        "id": "SGbLRU9F6b6B"
      },
      "source": [
        "# param\n",
        "TAR_FILE_NAME = 'data0627.tar'\n",
        "steerings_range = list(range(-50, 55, 5))\n",
        "ratio = 0.9\n"
      ],
      "execution_count": 63,
      "outputs": []
    },
    {
      "cell_type": "code",
      "metadata": {
        "id": "28t9xPiyVtVG"
      },
      "source": [
        "from google.colab import drive\n",
        "\n",
        "drive.mount('/content/drive')\n",
        "\n",
        "!cp /content/drive/MyDrive/ai_training/raw_data/$TAR_FILE_NAME /content/data.tar\n",
        "!tar xvf data.tar"
      ],
      "execution_count": null,
      "outputs": []
    },
    {
      "cell_type": "code",
      "metadata": {
        "id": "DAr7v0zWwp__"
      },
      "source": [
        "import numpy as np\n",
        "import matplotlib.pyplot as plt\n",
        "\n",
        "def plot_dist(df, title='', subplot=None):\n",
        "    steerings_count = [len(df.loc[df['steering'] == r]) for r in steerings_range]\n",
        "    steerings_dist = pd.DataFrame({\n",
        "        'steering': steerings_range,\n",
        "        'count': steerings_count\n",
        "    })\n",
        "    \n",
        "    if subplot:\n",
        "        plt.subplot(*subplot)\n",
        "\n",
        "    plt.bar(steerings_range, steerings_count, width=4)\n",
        "    plt.xlabel('steering')\n",
        "    plt.ylabel('count')\n",
        "    plt.title(title)\n",
        "\n",
        "    if not subplot:\n",
        "        plt.show()"
      ],
      "execution_count": 64,
      "outputs": []
    },
    {
      "cell_type": "code",
      "metadata": {
        "colab": {
          "base_uri": "https://localhost:8080/"
        },
        "id": "chIrbgMgwaUQ",
        "outputId": "235b2f05-c680-401f-c2df-aff79d9de603"
      },
      "source": [
        "import pandas as pd\n",
        "import json\n",
        "\n",
        "# trans json data to dataframe\n",
        "with open('data/motor_im_map.json', 'r') as f:\n",
        "  json_data = json.loads(f.read())\n",
        "\n",
        "raw_data = {\n",
        "    'im_key': [],\n",
        "    'speed': [],\n",
        "    'steering': [],\n",
        "}\n",
        "\n",
        "for im_key, (speed, steering) in json_data.items():\n",
        "  raw_data['im_key'].append(im_key)\n",
        "  raw_data['speed'].append(speed)\n",
        "  raw_data['steering'].append(steering)\n",
        "\n",
        "df = pd.DataFrame(raw_data)\n",
        "print(df)"
      ],
      "execution_count": 65,
      "outputs": [
        {
          "output_type": "stream",
          "text": [
            "                                    im_key  speed  steering\n",
            "0     c17c7f70-d749-11eb-8e4b-984827de9286      0         0\n",
            "1     c1be0080-d749-11eb-8e4b-984827de9286      0         0\n",
            "2     c1c2c318-d749-11eb-8e4b-984827de9286      0         0\n",
            "3     c1c748a2-d749-11eb-8e4b-984827de9286      0         0\n",
            "4     c1cbfa3c-d749-11eb-8e4b-984827de9286      0         0\n",
            "...                                    ...    ...       ...\n",
            "7203  3af81980-d74b-11eb-8e4b-984827de9286     85        25\n",
            "7204  3afff114-d74b-11eb-8e4b-984827de9286     85        30\n",
            "7205  3b07dba4-d74b-11eb-8e4b-984827de9286     85        35\n",
            "7206  3b0fc9f4-d74b-11eb-8e4b-984827de9286     85        40\n",
            "7207  3b179d28-d74b-11eb-8e4b-984827de9286     85        45\n",
            "\n",
            "[7208 rows x 3 columns]\n"
          ],
          "name": "stdout"
        }
      ]
    },
    {
      "cell_type": "code",
      "metadata": {
        "id": "H6v79N4yyyJ5"
      },
      "source": [
        "def seperate_data(df, max_dataset=None):\n",
        "    train_df = pd.DataFrame(columns=df.columns)\n",
        "    test_df = pd.DataFrame(columns=df.columns)\n",
        "\n",
        "    for steering in steerings_range:\n",
        "        _df = df.loc[df['steering'] == steering]\n",
        "\n",
        "        if max_dataset and len(_df) > max_dataset:\n",
        "            _df = _df.sample(n=max_dataset)\n",
        "\n",
        "        train_temp = _df.sample(frac=ratio)\n",
        "        test_temp = _df.drop(train_temp.index)\n",
        "\n",
        "        train_df = train_df.append(train_temp)\n",
        "        test_df = test_df.append(test_temp)\n",
        "\n",
        "    return train_df, test_df\n",
        "\n",
        "\n",
        "# remove speed == 0\n",
        "df_2 = df.loc[df['speed'] != 0]\n",
        "# seperate\n",
        "train_df, test_df = seperate_data(df_2, max_dataset=400)"
      ],
      "execution_count": 67,
      "outputs": []
    },
    {
      "cell_type": "code",
      "metadata": {
        "colab": {
          "base_uri": "https://localhost:8080/",
          "height": 621
        },
        "id": "wkIVdDZPw355",
        "outputId": "ddfa1e2e-700e-41e9-8173-bf2003c57096"
      },
      "source": [
        "# origin df\n",
        "plt.rcParams['figure.figsize'] = [20, 10]\n",
        "plot_dist(df, 'origin', (2, 2, 1))\n",
        "plot_dist(df_2, 'remove zero speed', (2, 2, 2))\n",
        "plot_dist(train_df, 'train df', (2, 2, 3))\n",
        "plot_dist(test_df, 'test df', (2, 2, 4))"
      ],
      "execution_count": 68,
      "outputs": [
        {
          "output_type": "display_data",
          "data": {
            "image/png": "[encoded data removed]",
            "text/plain": [
              "<Figure size 1440x720 with 4 Axes>"
            ]
          },
          "metadata": {
            "tags": [],
            "needs_background": "light"
          }
        }
      ]
    },
    {
      "cell_type": "code",
      "metadata": {
        "id": "ZZ4rdZUfz8V3"
      },
      "source": [
        "# shuffle\n",
        "train_df = train_df.sample(frac=1)\n",
        "test_df = test_df.sample(frac=1)\n",
        "\n",
        "import os\n",
        "\n",
        "if not os.path.exists('clean_data'):\n",
        "    os.mkdir('clean_data')\n",
        "    os.mkdir('clean_data/img')\n",
        "\n",
        "train_df.to_csv('clean_data/train.csv', index=False)\n",
        "test_df.to_csv('clean_data/test.csv', index=False)"
      ],
      "execution_count": 81,
      "outputs": []
    },
    {
      "cell_type": "code",
      "metadata": {
        "id": "380Jj1017WJp"
      },
      "source": [
        "from shutil import copyfile\n",
        "\n",
        "# cp img data\n",
        "for k in train_df.append(test_df)['im_key']:\n",
        "    copyfile(f'data/img/{k}.jpg', f'clean_data/img/{k}.jpg')"
      ],
      "execution_count": 83,
      "outputs": []
    },
    {
      "cell_type": "code",
      "metadata": {
        "id": "p4t8nj5N8KFg"
      },
      "source": [
        "!tar cvf clean_data.tar clean_data"
      ],
      "execution_count": null,
      "outputs": []
    },
    {
      "cell_type": "code",
      "metadata": {
        "id": "m7mn1Ysq161_"
      },
      "source": [
        ""
      ],
      "execution_count": null,
      "outputs": []
    }
  ]
}