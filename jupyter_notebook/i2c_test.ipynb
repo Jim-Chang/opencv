{
 "cells": [
  {
   "cell_type": "code",
   "execution_count": 2,
   "id": "8e67856c",
   "metadata": {},
   "outputs": [],
   "source": [
    "import smbus\n",
    "\n",
    "i2c = smbus.SMBus(0)\n",
    "addr = 0x50\n",
    "reg = 0x00\n",
    "val = 0x63\n",
    "i2c.write_byte_data(addr, reg, 0x63)"
   ]
  },
  {
   "cell_type": "code",
   "execution_count": 15,
   "id": "737d2a94",
   "metadata": {},
   "outputs": [],
   "source": [
    "i2c.write_block_data(addr, 0x00, [255, 22, 31, 33,32])\n",
    "i2c.write_block_data(addr, 0x01, [1, 50, 90])"
   ]
  },
  {
   "cell_type": "code",
   "execution_count": 13,
   "id": "d3404913",
   "metadata": {},
   "outputs": [
    {
     "name": "stdout",
     "output_type": "stream",
     "text": [
      "smbus                   1.1.post2\r\n"
     ]
    }
   ],
   "source": [
    "!pip list | grep smbus"
   ]
  },
  {
   "cell_type": "code",
   "execution_count": null,
   "id": "dfb32fdf",
   "metadata": {},
   "outputs": [],
   "source": []
  }
 ],
 "metadata": {
  "kernelspec": {
   "display_name": "Python 3",
   "language": "python",
   "name": "python3"
  },
  "language_info": {
   "codemirror_mode": {
    "name": "ipython",
    "version": 3
   },
   "file_extension": ".py",
   "mimetype": "text/x-python",
   "name": "python",
   "nbconvert_exporter": "python",
   "pygments_lexer": "ipython3",
   "version": "3.8.9"
  }
 },
 "nbformat": 4,
 "nbformat_minor": 5
}
