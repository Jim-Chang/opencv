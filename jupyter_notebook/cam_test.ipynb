{
 "cells": [
  {
   "cell_type": "code",
   "execution_count": 1,
   "id": "0b74aeb3",
   "metadata": {},
   "outputs": [],
   "source": [
    "'''\n",
    "https://stackoverflow.com/questions/64272731/open-cv-shows-green-screen-on-jetson-nano\n",
    "https://forums.developer.nvidia.com/t/green-screen-when-using-raspberry-pi-camera-v2-attached-to-jetson-nano-and-cv2-opencv/173596/9\n",
    "https://qengineering.eu/install-opencv-4.5-on-jetson-nano.html\n",
    "https://gist.github.com/pohmelie/cf4eda5df24303325b16\n",
    "https://blog.csdn.net/kingroc/article/details/93893828\n",
    "\n",
    "完整教學看這兩個\n",
    "https://qengineering.eu/install-opencv-4.5-on-jetson-nano.html\n",
    "https://www.sproutworkshop.com/2021/04/how-to-compile-opencv-4-5-2-with-cuda-11-2-and-cudnn-8-1-on-ubuntu-20-04/\n",
    "'''\n",
    "\n",
    "\n",
    "'''\n",
    "# 注意，OPENCV_EXTRA_MODULES_PATH 路徑要給對！\n",
    "# 跑出來的結果要檢查 python3 的部分路徑有沒有抓到\n",
    "\n",
    "cmake -D CMAKE_BUILD_TYPE=RELEASE \\\n",
    "-D CMAKE_INSTALL_PREFIX=/usr \\\n",
    "-D OPENCV_EXTRA_MODULES_PATH=../../opencv_contrib/modules \\\n",
    "-D EIGEN_INCLUDE_PATH=/usr/include/eigen3 \\\n",
    "-D WITH_OPENCL=OFF \\\n",
    "-D WITH_CUDA=ON \\\n",
    "-D CUDA_ARCH_BIN=5.3 \\\n",
    "-D CUDA_ARCH_PTX=\"\" \\\n",
    "-D WITH_CUDNN=ON \\\n",
    "-D WITH_CUBLAS=ON \\\n",
    "-D ENABLE_FAST_MATH=ON \\\n",
    "-D CUDA_FAST_MATH=ON \\\n",
    "-D OPENCV_DNN_CUDA=ON \\\n",
    "-D ENABLE_NEON=ON \\\n",
    "-D WITH_QT=OFF \\\n",
    "-D WITH_OPENMP=ON \\\n",
    "-D WITH_OPENGL=ON \\\n",
    "-D BUILD_TIFF=ON \\\n",
    "-D WITH_FFMPEG=ON \\\n",
    "-D WITH_GSTREAMER=ON \\\n",
    "-D WITH_TBB=ON \\\n",
    "-D BUILD_TBB=ON \\\n",
    "-D BUILD_TESTS=OFF \\\n",
    "-D WITH_EIGEN=ON \\\n",
    "-D WITH_V4L=ON \\\n",
    "-D WITH_LIBV4L=ON \\\n",
    "-D OPENCV_ENABLE_NONFREE=ON \\\n",
    "-D INSTALL_C_EXAMPLES=OFF \\\n",
    "-D INSTALL_PYTHON_EXAMPLES=OFF \\\n",
    "-D BUILD_opencv_python3=TRUE \\\n",
    "-D OPENCV_GENERATE_PKGCONFIG=ON \\\n",
    "-D BUILD_EXAMPLES=OFF ..\n",
    "'''\n",
    "\n",
    "'''\n",
    "# 重點！！！！\n",
    "make install 前先把預設的 python ln 到 python3.6 (system 的)\n",
    "make install 後，自行把 cv2.so link 到 virtualenv\n",
    "'''\n",
    "\n",
    "import cv2\n",
    "# from  matplotlib import pyplot as plt\n",
    "import time\n",
    "%matplotlib inline"
   ]
  },
  {
   "cell_type": "code",
   "execution_count": 2,
   "id": "4d397e5f",
   "metadata": {},
   "outputs": [],
   "source": [
    "def gstreamer_pipeline(\n",
    "    capture_width=1280,\n",
    "    capture_height=720,\n",
    "    display_width=1280,\n",
    "    display_height=720,\n",
    "    framerate=60,\n",
    "    flip_method=0,\n",
    "):\n",
    "    return (\n",
    "        \"nvarguscamerasrc ! \"\n",
    "        \"video/x-raw(memory:NVMM), \"\n",
    "        \"width=(int)%d, height=(int)%d, \"\n",
    "        \"format=(string)NV12, framerate=(fraction)%d/1 ! \"\n",
    "        \"nvvidconv flip-method=%d ! \"\n",
    "        \"video/x-raw, width=(int)%d, height=(int)%d, format=(string)BGRx ! \"\n",
    "        \"videoconvert ! \"\n",
    "        \"video/x-raw, format=(string)BGR ! appsink\"\n",
    "        % (\n",
    "            capture_width,\n",
    "            capture_height,\n",
    "            framerate,\n",
    "            flip_method,\n",
    "            display_width,\n",
    "            display_height,\n",
    "        )\n",
    "    )"
   ]
  },
  {
   "cell_type": "code",
   "execution_count": 3,
   "id": "fa286a69",
   "metadata": {},
   "outputs": [],
   "source": [
    "# from jetbot source code\n",
    "def _gst_str(width=224, height=224, fps=30, capture_width=816, capture_height=616):\n",
    "        return 'nvarguscamerasrc sensor-mode=3 ! video/x-raw(memory:NVMM), width=%d, height=%d, format=(string)NV12, framerate=(fraction)%d/1 ! nvvidconv ! video/x-raw, width=(int)%d, height=(int)%d, format=(string)BGRx ! videoconvert ! appsink' % (\n",
    "                capture_width, capture_height, fps, width, height)"
   ]
  },
  {
   "cell_type": "code",
   "execution_count": 4,
   "id": "6b35bf68",
   "metadata": {},
   "outputs": [
    {
     "name": "stdout",
     "output_type": "stream",
     "text": [
      "nvarguscamerasrc ! video/x-raw(memory:NVMM), width=(int)1280, height=(int)720, format=(string)NV12, framerate=(fraction)60/1 ! nvvidconv flip-method=0 ! video/x-raw, width=(int)1280, height=(int)720, format=(string)BGRx ! videoconvert ! video/x-raw, format=(string)BGR ! appsink\n",
      "nvarguscamerasrc sensor-mode=3 ! video/x-raw(memory:NVMM), width=816, height=616, format=(string)NV12, framerate=(fraction)30/1 ! nvvidconv ! video/x-raw, width=(int)224, height=(int)224, format=(string)BGRx ! videoconvert ! appsink\n"
     ]
    }
   ],
   "source": [
    "print(gstreamer_pipeline())\n",
    "print(_gst_str())"
   ]
  },
  {
   "cell_type": "code",
   "execution_count": 5,
   "id": "319373e2",
   "metadata": {},
   "outputs": [],
   "source": [
    "# gst = _gst_str()\n",
    "gst = gstreamer_pipeline()\n",
    "cap = cv2.VideoCapture(gstreamer_pipeline(), cv2.CAP_GSTREAMER)"
   ]
  },
  {
   "cell_type": "code",
   "execution_count": 6,
   "id": "a30f4805",
   "metadata": {},
   "outputs": [
    {
     "data": {
      "text/plain": [
       "True"
      ]
     },
     "execution_count": 6,
     "metadata": {},
     "output_type": "execute_result"
    }
   ],
   "source": [
    "cap.isOpened()"
   ]
  },
  {
   "cell_type": "code",
   "execution_count": 8,
   "id": "83edee86",
   "metadata": {},
   "outputs": [
    {
     "name": "stdout",
     "output_type": "stream",
     "text": [
      "test speed\n",
      "0.0054476261138916016\n"
     ]
    }
   ],
   "source": [
    "print('test speed')\n",
    "t = time.time()\n",
    "success, img = cap.read()\n",
    "print(time.time() -t)"
   ]
  },
  {
   "cell_type": "code",
   "execution_count": 8,
   "id": "944c28e5",
   "metadata": {},
   "outputs": [],
   "source": [
    "from IPython.display import clear_output, display\n",
    "import IPython\n",
    "from PIL import Image\n",
    "from io import BytesIO\n",
    "\n",
    "# low speed\n",
    "def render_direct(img_arr):\n",
    "    img = Image.fromarray(img_arr)\n",
    "    display(img)\n",
    "    clear_output(wait=True)\n",
    "    \n",
    "# high speed\n",
    "# https://medium.com/@kostal91/displaying-real-time-webcam-stream-in-ipython-at-relatively-high-framerate-8e67428ac522\n",
    "def render_by_jpg(arr, fmt='jpeg'):\n",
    "    f = BytesIO()\n",
    "    Image.fromarray(arr).save(f, fmt)\n",
    "    display(IPython.display.Image(data=f.getvalue()))\n",
    "    clear_output(wait=True)\n",
    "    \n",
    "def render(img):\n",
    "    return render_by_jpg(img)"
   ]
  },
  {
   "cell_type": "code",
   "execution_count": 9,
   "id": "b0778172",
   "metadata": {},
   "outputs": [
    {
     "name": "stdout",
     "output_type": "stream",
     "text": [
      "stop\n"
     ]
    }
   ],
   "source": [
    "try:\n",
    "    while True:\n",
    "        t = time.time()\n",
    "        success, img = cap.read()\n",
    "        if success:\n",
    "            img = cv2.cvtColor(img, cv2.COLOR_BGR2RGB)\n",
    "            render(img)\n",
    "\n",
    "        else:\n",
    "            print('camera error')\n",
    "except KeyboardInterrupt:\n",
    "    print('stop')"
   ]
  },
  {
   "cell_type": "code",
   "execution_count": null,
   "id": "eddc1c88",
   "metadata": {},
   "outputs": [],
   "source": [
    "cap.release()"
   ]
  },
  {
   "cell_type": "code",
   "execution_count": 6,
   "id": "2553ef43",
   "metadata": {},
   "outputs": [
    {
     "name": "stdout",
     "output_type": "stream",
     "text": [
      "\n",
      "General configuration for OpenCV 4.1.1 =====================================\n",
      "  Version control:               4.1.1-2-gd5a58aa75\n",
      "\n",
      "  Platform:\n",
      "    Timestamp:                   2019-12-13T17:25:11Z\n",
      "    Host:                        Linux 4.9.140-tegra aarch64\n",
      "    CMake:                       3.10.2\n",
      "    CMake generator:             Unix Makefiles\n",
      "    CMake build tool:            /usr/bin/make\n",
      "    Configuration:               Release\n",
      "\n",
      "  CPU/HW features:\n",
      "    Baseline:                    NEON FP16\n",
      "      required:                  NEON\n",
      "      disabled:                  VFPV3\n",
      "\n",
      "  C/C++:\n",
      "    Built as dynamic libs?:      YES\n",
      "    C++ Compiler:                /usr/bin/c++  (ver 7.4.0)\n",
      "    C++ flags (Release):         -fsigned-char -W -Wall -Werror=return-type -Werror=non-virtual-dtor -Werror=address -Werror=sequence-point -Wformat -Werror=format-security -Wmissing-declarations -Wundef -Winit-self -Wpointer-arith -Wshadow -Wsign-promo -Wuninitialized -Winit-self -Wsuggest-override -Wno-delete-non-virtual-dtor -Wno-comment -Wimplicit-fallthrough=3 -Wno-strict-overflow -fdiagnostics-show-option -pthread -fomit-frame-pointer -ffunction-sections -fdata-sections    -fvisibility=hidden -fvisibility-inlines-hidden -O3 -DNDEBUG  -DNDEBUG\n",
      "    C++ flags (Debug):           -fsigned-char -W -Wall -Werror=return-type -Werror=non-virtual-dtor -Werror=address -Werror=sequence-point -Wformat -Werror=format-security -Wmissing-declarations -Wundef -Winit-self -Wpointer-arith -Wshadow -Wsign-promo -Wuninitialized -Winit-self -Wsuggest-override -Wno-delete-non-virtual-dtor -Wno-comment -Wimplicit-fallthrough=3 -Wno-strict-overflow -fdiagnostics-show-option -pthread -fomit-frame-pointer -ffunction-sections -fdata-sections    -fvisibility=hidden -fvisibility-inlines-hidden -g  -O0 -DDEBUG -D_DEBUG\n",
      "    C Compiler:                  /usr/bin/cc\n",
      "    C flags (Release):           -fsigned-char -W -Wall -Werror=return-type -Werror=non-virtual-dtor -Werror=address -Werror=sequence-point -Wformat -Werror=format-security -Wmissing-declarations -Wmissing-prototypes -Wstrict-prototypes -Wundef -Winit-self -Wpointer-arith -Wshadow -Wuninitialized -Winit-self -Wno-comment -Wimplicit-fallthrough=3 -Wno-strict-overflow -fdiagnostics-show-option -pthread -fomit-frame-pointer -ffunction-sections -fdata-sections    -fvisibility=hidden -O3 -DNDEBUG  -DNDEBUG\n",
      "    C flags (Debug):             -fsigned-char -W -Wall -Werror=return-type -Werror=non-virtual-dtor -Werror=address -Werror=sequence-point -Wformat -Werror=format-security -Wmissing-declarations -Wmissing-prototypes -Wstrict-prototypes -Wundef -Winit-self -Wpointer-arith -Wshadow -Wuninitialized -Winit-self -Wno-comment -Wimplicit-fallthrough=3 -Wno-strict-overflow -fdiagnostics-show-option -pthread -fomit-frame-pointer -ffunction-sections -fdata-sections    -fvisibility=hidden -g  -O0 -DDEBUG -D_DEBUG\n",
      "    Linker flags (Release):      -Wl,--gc-sections  \n",
      "    Linker flags (Debug):        -Wl,--gc-sections  \n",
      "    ccache:                      NO\n",
      "    Precompiled headers:         NO\n",
      "    Extra dependencies:          dl m pthread rt\n",
      "    3rdparty dependencies:\n",
      "\n",
      "  OpenCV modules:\n",
      "    To be built:                 calib3d core dnn features2d flann gapi highgui imgcodecs imgproc ml objdetect photo python2 python3 stitching ts video videoio\n",
      "    Disabled:                    world\n",
      "    Disabled by dependency:      -\n",
      "    Unavailable:                 java js\n",
      "    Applications:                tests perf_tests examples apps\n",
      "    Documentation:               NO\n",
      "    Non-free algorithms:         NO\n",
      "\n",
      "  GUI: \n",
      "    GTK+:                        YES (ver 2.24.32)\n",
      "      GThread :                  YES (ver 2.56.4)\n",
      "      GtkGlExt:                  NO\n",
      "\n",
      "  Media I/O: \n",
      "    ZLib:                        /usr/lib/aarch64-linux-gnu/libz.so (ver 1.2.11)\n",
      "    JPEG:                        /usr/lib/aarch64-linux-gnu/libjpeg.so (ver 80)\n",
      "    WEBP:                        build (ver encoder: 0x020e)\n",
      "    PNG:                         /usr/lib/aarch64-linux-gnu/libpng.so (ver 1.6.34)\n",
      "    TIFF:                        /usr/lib/aarch64-linux-gnu/libtiff.so (ver 42 / 4.0.9)\n",
      "    JPEG 2000:                   build (ver 1.900.1)\n",
      "    HDR:                         YES\n",
      "    SUNRASTER:                   YES\n",
      "    PXM:                         YES\n",
      "    PFM:                         YES\n",
      "\n",
      "  Video I/O:\n",
      "    FFMPEG:                      YES\n",
      "      avcodec:                   YES (57.107.100)\n",
      "      avformat:                  YES (57.83.100)\n",
      "      avutil:                    YES (55.78.100)\n",
      "      swscale:                   YES (4.8.100)\n",
      "      avresample:                NO\n",
      "    GStreamer:                   YES (1.14.5)\n",
      "    v4l/v4l2:                    YES (linux/videodev2.h)\n",
      "\n",
      "  Parallel framework:            TBB (ver 2017.0 interface 9107)\n",
      "\n",
      "  Trace:                         YES (with Intel ITT)\n",
      "\n",
      "  Other third-party libraries:\n",
      "    Lapack:                      NO\n",
      "    Eigen:                       YES (ver 3.3.4)\n",
      "    Custom HAL:                  YES (carotene (ver 0.0.1))\n",
      "    Protobuf:                    build (3.5.1)\n",
      "\n",
      "  Python 2:\n",
      "    Interpreter:                 /usr/bin/python2.7 (ver 2.7.15)\n",
      "    Libraries:                   /usr/lib/aarch64-linux-gnu/libpython2.7.so (ver 2.7.15+)\n",
      "    numpy:                       /usr/lib/python2.7/dist-packages/numpy/core/include (ver 1.13.3)\n",
      "    install path:                lib/python2.7/dist-packages/cv2/python-2.7\n",
      "\n",
      "  Python 3:\n",
      "    Interpreter:                 /usr/bin/python3 (ver 3.6.9)\n",
      "    Libraries:                   /usr/lib/aarch64-linux-gnu/libpython3.6m.so (ver 3.6.9)\n",
      "    numpy:                       /usr/lib/python3/dist-packages/numpy/core/include (ver 1.13.3)\n",
      "    install path:                lib/python3.6/dist-packages/cv2/python-3.6\n",
      "\n",
      "  Python (for build):            /usr/bin/python2.7\n",
      "\n",
      "  Java:                          \n",
      "    ant:                         NO\n",
      "    JNI:                         NO\n",
      "    Java wrappers:               NO\n",
      "    Java tests:                  NO\n",
      "\n",
      "  Install to:                    /usr\n",
      "-----------------------------------------------------------------\n",
      "\n",
      "\n"
     ]
    }
   ],
   "source": [
    "print(cv2.getBuildInformation())"
   ]
  },
  {
   "cell_type": "code",
   "execution_count": null,
   "id": "aa6b266e",
   "metadata": {},
   "outputs": [],
   "source": []
  }
 ],
 "metadata": {
  "kernelspec": {
   "display_name": "Python 3",
   "language": "python",
   "name": "python3"
  },
  "language_info": {
   "codemirror_mode": {
    "name": "ipython",
    "version": 3
   },
   "file_extension": ".py",
   "mimetype": "text/x-python",
   "name": "python",
   "nbconvert_exporter": "python",
   "pygments_lexer": "ipython3",
   "version": "3.8.9"
  }
 },
 "nbformat": 4,
 "nbformat_minor": 5
}
