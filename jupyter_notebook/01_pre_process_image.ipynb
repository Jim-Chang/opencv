{
 "cells": [
  {
   "cell_type": "code",
   "execution_count": 114,
   "id": "fe6e6fb8",
   "metadata": {},
   "outputs": [],
   "source": [
    "# param\n",
    "import platform\n",
    "\n",
    "if platform.system() == 'Linux':\n",
    "    BASE_FOLDER = '/home/jim/Documents'\n",
    "else:\n",
    "    BASE_FOLDER = '/Users/jim/Documents'\n",
    "    \n",
    "SOURCE_FOLDER = BASE_FOLDER + '/clean_data_0627+0711'\n",
    "TARGET_FOLDER = BASE_FOLDER + '/clean_data'\n",
    "\n",
    "SRC_IMG_FOLDER = SOURCE_FOLDER + '/img'\n",
    "TAR_IMG_FOLDER = TARGET_FOLDER + '/img'\n",
    "\n",
    "AUG_KEY = '-tf'"
   ]
  },
  {
   "cell_type": "code",
   "execution_count": 115,
   "id": "25fd550e",
   "metadata": {},
   "outputs": [],
   "source": [
    "import pandas as pd\n",
    "\n",
    "train_df = pd.read_csv(SOURCE_FOLDER + '/train.csv')\n",
    "test_df = pd.read_csv(SOURCE_FOLDER + '/test.csv')"
   ]
  },
  {
   "cell_type": "code",
   "execution_count": 116,
   "id": "a1bbafe7",
   "metadata": {},
   "outputs": [],
   "source": [
    "from torchvision import transforms\n",
    "\n",
    "tf = transforms.Compose([\n",
    "    transforms.ColorJitter(0.1, 0.1, 0.1, 0.1),\n",
    "    transforms.RandomAffine(degrees=(-1, 1), translate=(0.05, 0.05), scale=(1, 1.05)),\n",
    "])\n",
    "\n",
    "tf_resize = transforms.Resize((66, 200))"
   ]
  },
  {
   "cell_type": "code",
   "execution_count": 118,
   "id": "502a0daf",
   "metadata": {},
   "outputs": [
    {
     "name": "stdout",
     "output_type": "stream",
     "text": [
      "augmentation train data...\n"
     ]
    },
    {
     "data": {
      "application/vnd.jupyter.widget-view+json": {
       "model_id": "4a00e64d8db342d68f7a05717678c3cb",
       "version_major": 2,
       "version_minor": 0
      },
      "text/plain": [
       "IntProgress(value=0)"
      ]
     },
     "metadata": {},
     "output_type": "display_data"
    },
    {
     "name": "stderr",
     "output_type": "stream",
     "text": [
      "/Users/jim/Envs/opencv/lib/python3.6/site-packages/ipykernel_launcher.py:31: SettingWithCopyWarning: \n",
      "A value is trying to be set on a copy of a slice from a DataFrame.\n",
      "Try using .loc[row_indexer,col_indexer] = value instead\n",
      "\n",
      "See the caveats in the documentation: https://pandas.pydata.org/pandas-docs/stable/user_guide/indexing.html#returning-a-view-versus-a-copy\n"
     ]
    },
    {
     "name": "stdout",
     "output_type": "stream",
     "text": [
      "augmentation test data...\n"
     ]
    },
    {
     "data": {
      "application/vnd.jupyter.widget-view+json": {
       "model_id": "bf19a1ed121c4cd2baee4670fda837bd",
       "version_major": 2,
       "version_minor": 0
      },
      "text/plain": [
       "IntProgress(value=0)"
      ]
     },
     "metadata": {},
     "output_type": "display_data"
    },
    {
     "name": "stdout",
     "output_type": "stream",
     "text": [
      "finish\n"
     ]
    }
   ],
   "source": [
    "from PIL import Image\n",
    "from matplotlib.pyplot import imshow\n",
    "from ipywidgets import IntProgress\n",
    "from IPython.display import display\n",
    "import numpy as np\n",
    "%matplotlib inline\n",
    "\n",
    "import os\n",
    "\n",
    "if not os.path.exists(TARGET_FOLDER):\n",
    "    os.mkdir(TARGET_FOLDER)\n",
    "    os.mkdir(TAR_IMG_FOLDER)\n",
    "\n",
    "\n",
    "def augmentation(df):\n",
    "    keys = df['im_key']\n",
    "    \n",
    "    pbar = IntProgress()\n",
    "    display(pbar)\n",
    "    \n",
    "    pbar.value = 0\n",
    "    pbar.max = len(keys)\n",
    "    \n",
    "    for key in keys:\n",
    "        img = Image.open(f'{SRC_IMG_FOLDER}/{key}.jpg')\n",
    "        img_t = tf(img)\n",
    "        img_t = tf_resize(img_t)\n",
    "        img_t.save(f'{TAR_IMG_FOLDER}/{key}{AUG_KEY}.jpg')\n",
    "\n",
    "        row = df.loc[df['im_key'] == key]\n",
    "        row['im_key'] = f'{key}{AUG_KEY}'\n",
    "        df = df.append(row, ignore_index=True)\n",
    "\n",
    "        img = tf_resize(img)\n",
    "        img.save(f'{TAR_IMG_FOLDER}/{key}.jpg')\n",
    "        \n",
    "        pbar.value += 1\n",
    "    \n",
    "    return df\n",
    "        \n",
    "print('augmentation train data...')\n",
    "train_df = augmentation(train_df)\n",
    "print('augmentation test data...')\n",
    "test_df = augmentation(test_df)\n",
    "    \n",
    "train_df.to_csv(TARGET_FOLDER + '/train.csv', index=False)\n",
    "test_df.to_csv(TARGET_FOLDER + '/test.csv', index=False)\n",
    "\n",
    "print('finish')\n"
   ]
  },
  {
   "cell_type": "code",
   "execution_count": null,
   "id": "95e76c1e",
   "metadata": {},
   "outputs": [],
   "source": []
  }
 ],
 "metadata": {
  "kernelspec": {
   "display_name": "Python 3",
   "language": "python",
   "name": "python3"
  },
  "language_info": {
   "codemirror_mode": {
    "name": "ipython",
    "version": 3
   },
   "file_extension": ".py",
   "mimetype": "text/x-python",
   "name": "python",
   "nbconvert_exporter": "python",
   "pygments_lexer": "ipython3",
   "version": "3.6.8"
  }
 },
 "nbformat": 4,
 "nbformat_minor": 5
}
