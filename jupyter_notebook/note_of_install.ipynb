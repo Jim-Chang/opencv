{
 "cells": [
  {
   "cell_type": "markdown",
   "id": "0db933e3",
   "metadata": {},
   "source": [
    "# Jetson nano 安裝套件筆記\n",
    "\n",
    "## Tensorflow install\n",
    "\n",
    "https://forums.developer.nvidia.com/t/official-tensorflow-for-jetson-nano/71770\n",
    "\n",
    "```\n",
    "sudo apt-get install libhdf5-serial-dev hdf5-tools libhdf5-dev zlib1g-dev zip libjpeg8-dev liblapack-dev libblas-dev gfortran\n",
    "sudo apt-get install python3-pip\n",
    "sudo pip3 install -U pip testresources setuptools==49.6.0\n",
    "sudo pip3 install -U numpy==1.16.1 future==0.18.2 mock==3.0.5 h5py==2.10.0 keras_preprocessing==1.1.1 keras_applications==1.0.8 gast==0.2.2 futures protobuf pybind11\n",
    "# TF-2.x\n",
    "sudo pip3 install --pre --extra-index-url https://developer.download.nvidia.com/compute/redist/jp/v45 tensorflow\n",
    "```\n",
    "\n",
    "安裝完後，因為 2.x 有新增一些指令，要給定 cpu type 才不會發生 Illegal instruction (core dumped) 的錯誤\n",
    "ref: https://stackoverflow.com/questions/65631801/illegal-instructioncore-dumped-error-on-jetson-nano\n",
    "\n",
    "把這行加到 .bashrc\n",
    "`OPENBLAS_CORETYPE=ARMV8`\n",
    "\n",
    "## pyTorch install\n",
    "\n",
    "https://forums.developer.nvidia.com/t/pytorch-for-jetson-version-1-8-0-now-available/72048\n",
    "```\n",
    "wget https://nvidia.box.com/shared/static/p57jwntv436lfrd78inwl7iml6p13fzh.whl -O torch-1.8.0-cp36-cp36m-linux_aarch64.whl\n",
    "sudo apt-get install python3-pip libopenblas-base libopenmpi-dev \n",
    "pip3 install Cython\n",
    "pip3 install numpy torch-1.8.0-cp36-cp36m-linux_aarch64.whl\n",
    "```\n",
    "\n",
    "## torchvision install\n",
    "\n",
    "https://forums.developer.nvidia.com/t/pytorch-for-jetson-version-1-8-0-now-available/72048\n",
    "```\n",
    "sudo apt-get install libjpeg-dev zlib1g-dev libpython3-dev libavcodec-dev libavformat-dev libswscale-dev\n",
    "git clone --branch <version> https://github.com/pytorch/vision torchvision   # see below for version of torchvision to download\n",
    "cd torchvision\n",
    "export BUILD_VERSION=0.x.0  # where 0.x.0 is the torchvision version  \n",
    "python3 setup.py install --user\n",
    "```\n",
    "PyTorch v1.8 - torchvision v0.9.0\n",
    "\n",
    "## cannot allocate memory in static TLS block\n",
    "\n",
    "跑 pytorch 可能會出現此錯誤\n",
    "\n",
    "ImportError: /usr/lib/aarch64-linux-gnu/libgomp.so.1: cannot allocate memory in static TLS block\n",
    "\n",
    "用這一行\n",
    "export LD_PRELOAD=/usr/lib/aarch64-linux-gnu/libgomp.so.1"
   ]
  }
 ],
 "metadata": {
  "kernelspec": {
   "display_name": "Python 3",
   "language": "python",
   "name": "python3"
  },
  "language_info": {
   "codemirror_mode": {
    "name": "ipython",
    "version": 3
   },
   "file_extension": ".py",
   "mimetype": "text/x-python",
   "name": "python",
   "nbconvert_exporter": "python",
   "pygments_lexer": "ipython3",
   "version": "3.6.9"
  }
 },
 "nbformat": 4,
 "nbformat_minor": 5
}
