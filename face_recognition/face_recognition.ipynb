{
 "cells": [
  {
   "cell_type": "code",
   "execution_count": 12,
   "id": "69a6a2a1",
   "metadata": {},
   "outputs": [
    {
     "name": "stdout",
     "output_type": "stream",
     "text": [
      "\r\n"
     ]
    }
   ],
   "source": [
    "# install pycuda, must run in shell\n",
    "!export CPATH=$CPATH:/usr/local/cuda-10.2/targets/aarch64-linux/include\n",
    "!export LIBRARY_PATH=$LIBRARY_PATH:/usr/local/cuda-10.2/targets/aarch64-linux/lib\n",
    "!pip install pycuda\n",
    "\n",
    "'''\n",
    "    In file included from src/cpp/cuda.cpp:1:0:\n",
    "    src/cpp/cuda.hpp:14:10: fatal error: cuda.h: No such file or directory\n",
    "     #include <cuda.h>\n",
    "              ^~~~~~~~\n",
    "    compilation terminated.\n",
    "    error: command 'aarch64-linux-gnu-gcc' failed with exit status 1\n",
    "'''"
   ]
  },
  {
   "cell_type": "code",
   "execution_count": 6,
   "id": "a5e89e44",
   "metadata": {},
   "outputs": [
    {
     "name": "stdout",
     "output_type": "stream",
     "text": [
      "True\n"
     ]
    }
   ],
   "source": [
    "# import sys\n",
    "# sys.path.insert(0, '/home/jim/Documents/opencv/face_recognition/') \n",
    "# import pycuda.autoinit\n",
    "# import mediapipe as mp\n",
    "from detector import FaceDetector, MatchResult\n",
    "from watcher import MTWatcher, Watcher\n",
    "import time\n",
    "import dlib\n",
    "print(dlib.DLIB_USE_CUDA)"
   ]
  },
  {
   "cell_type": "code",
   "execution_count": 3,
   "id": "3de9bfe9",
   "metadata": {},
   "outputs": [],
   "source": [
    "detect_by = 'face_recognition'\n",
    "# detect_by = 'mediapipe'\n",
    "model = 'cnn'\n",
    "file_path = 'videos/10-29-01.mp4'"
   ]
  },
  {
   "cell_type": "code",
   "execution_count": 8,
   "id": "276c7008",
   "metadata": {},
   "outputs": [
    {
     "name": "stdout",
     "output_type": "stream",
     "text": [
      "2021-05-16 21:25:31,726 - root-detector.py[line:101] - INFO - loading known face encodes...\n",
      "2021-05-16 21:25:31,730 - root-detector.py[line:66] - INFO - Load face encodings from dat file\n",
      "2021-05-16 21:25:31,732 - root-detector.py[line:114] - INFO - load finish!, use 0.0024290084838867188 seconds\n"
     ]
    }
   ],
   "source": [
    "watcher = Watcher(\n",
    "    url=file_path,\n",
    "    detector=FaceDetector(detect_by=detect_by, model=model),\n",
    "    resize_factor=0.5,\n",
    "    # show_window=True\n",
    ")"
   ]
  },
  {
   "cell_type": "code",
   "execution_count": 9,
   "id": "001283e3",
   "metadata": {},
   "outputs": [
    {
     "name": "stdout",
     "output_type": "stream",
     "text": [
      "2021-05-16 21:25:33,559 - root-watcher.py[line:34] - INFO - Start detect from webcam: videos/10-29-01.mp4\n",
      "2021-05-16 21:25:53,294 - root-watcher.py[line:58] - INFO - [MatchResult(name='Jim', location=(33, 280, 73, 241), is_unknown=False)]\n",
      "2021-05-16 21:25:53,772 - root-watcher.py[line:58] - INFO - [MatchResult(name='Jim', location=(41, 288, 81, 249), is_unknown=False)]\n",
      "2021-05-16 21:25:54,251 - root-watcher.py[line:58] - INFO - [MatchResult(name='Jim', location=(49, 284, 89, 245), is_unknown=False)]\n",
      "2021-05-16 21:25:54,730 - root-watcher.py[line:58] - INFO - [MatchResult(name='Jim', location=(49, 284, 89, 245), is_unknown=False)]\n",
      "2021-05-16 21:25:55,209 - root-watcher.py[line:58] - INFO - [MatchResult(name='Jim', location=(49, 280, 89, 241), is_unknown=False)]\n",
      "2021-05-16 21:25:55,688 - root-watcher.py[line:58] - INFO - [MatchResult(name='Jim', location=(53, 284, 93, 245), is_unknown=False)]\n",
      "2021-05-16 21:25:56,166 - root-watcher.py[line:58] - INFO - [MatchResult(name='unknown', location=(49, 284, 89, 245), is_unknown=True)]\n",
      "2021-05-16 21:25:56,642 - root-watcher.py[line:58] - INFO - [MatchResult(name='Jim', location=(41, 264, 81, 225), is_unknown=False)]\n",
      "2021-05-16 21:26:54,173 - root-watcher.py[line:44] - INFO - Video is end.\n",
      "use 80.61852169036865 secs\n"
     ]
    }
   ],
   "source": [
    "t = time.time()\n",
    "watcher.run()\n",
    "print('use {} secs'.format(time.time() - t))"
   ]
  }
 ],
 "metadata": {
  "kernelspec": {
   "display_name": "Python 3",
   "language": "python",
   "name": "python3"
  },
  "language_info": {
   "codemirror_mode": {
    "name": "ipython",
    "version": 3
   },
   "file_extension": ".py",
   "mimetype": "text/x-python",
   "name": "python",
   "nbconvert_exporter": "python",
   "pygments_lexer": "ipython3",
   "version": "3.8.9"
  }
 },
 "nbformat": 4,
 "nbformat_minor": 5
}
